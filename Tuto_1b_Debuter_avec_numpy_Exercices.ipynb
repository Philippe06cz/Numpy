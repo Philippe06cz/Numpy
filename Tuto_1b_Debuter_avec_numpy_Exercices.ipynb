{
 "cells": [
  {
   "cell_type": "markdown",
   "id": "5901f69c",
   "metadata": {},
   "source": [
    "# I.1. Exercice 1"
   ]
  },
  {
   "cell_type": "code",
   "execution_count": 2,
   "id": "73386dc9",
   "metadata": {},
   "outputs": [],
   "source": [
    "import numpy as np"
   ]
  },
  {
   "cell_type": "code",
   "execution_count": 7,
   "id": "7843fc21",
   "metadata": {},
   "outputs": [
    {
     "data": {
      "text/plain": [
       "11"
      ]
     },
     "execution_count": 7,
     "metadata": {},
     "output_type": "execute_result"
    }
   ],
   "source": [
    "scalaire_1 = np.array(5)\n",
    "scalaire_2 = np.array(6)\n",
    "scalaire_1 + scalaire_2\n"
   ]
  },
  {
   "cell_type": "code",
   "execution_count": 5,
   "id": "67ee000f",
   "metadata": {},
   "outputs": [
    {
     "name": "stdout",
     "output_type": "stream",
     "text": [
      "11\n"
     ]
    }
   ],
   "source": [
    "print(scalaire_1 + scalaire_2)"
   ]
  },
  {
   "cell_type": "markdown",
   "id": "a87eded1",
   "metadata": {},
   "source": [
    "# I.2. Exercice 2"
   ]
  },
  {
   "cell_type": "code",
   "execution_count": 8,
   "id": "5031c984",
   "metadata": {},
   "outputs": [
    {
     "data": {
      "text/plain": [
       "array([4, 5, 3])"
      ]
     },
     "execution_count": 8,
     "metadata": {},
     "output_type": "execute_result"
    }
   ],
   "source": [
    "vecteur_1 = np.array([1,2,3])\n",
    "vecteur_2 = np.array([3,2,1])\n",
    "vecteur_3 = np.array([0,1,-1])\n",
    "resultat = vecteur_1 + vecteur_2 + vecteur_3\n",
    "resultat"
   ]
  },
  {
   "cell_type": "code",
   "execution_count": 9,
   "id": "656c5232",
   "metadata": {},
   "outputs": [
    {
     "name": "stdout",
     "output_type": "stream",
     "text": [
      "[4 5 3]\n"
     ]
    }
   ],
   "source": [
    "print(resultat)"
   ]
  },
  {
   "cell_type": "code",
   "execution_count": 10,
   "id": "19b5e5d7",
   "metadata": {},
   "outputs": [
    {
     "name": "stdout",
     "output_type": "stream",
     "text": [
      "(3,)\n"
     ]
    }
   ],
   "source": [
    "print(resultat.shape)"
   ]
  },
  {
   "cell_type": "markdown",
   "id": "1bae56c9",
   "metadata": {},
   "source": [
    "### autre méthode"
   ]
  },
  {
   "cell_type": "code",
   "execution_count": 16,
   "id": "47e2854b",
   "metadata": {},
   "outputs": [
    {
     "name": "stdout",
     "output_type": "stream",
     "text": [
      "[4 5 3]\n",
      "[4 5 3]\n"
     ]
    },
    {
     "data": {
      "text/plain": [
       "array([4, 5, 3])"
      ]
     },
     "execution_count": 16,
     "metadata": {},
     "output_type": "execute_result"
    }
   ],
   "source": [
    "vecteur_1, vecteur_2, vecteur_3 = np.array([1,2,3]), np.array([3,2,1]), np.array([0,1,-1])\n",
    "print(vecteur_1 + vecteur_2 + vecteur_3)\n",
    "print(resultat)\n",
    "resultat"
   ]
  },
  {
   "cell_type": "code",
   "execution_count": 15,
   "id": "3ea8147d",
   "metadata": {},
   "outputs": [
    {
     "name": "stdout",
     "output_type": "stream",
     "text": [
      "(3,)\n"
     ]
    }
   ],
   "source": [
    "print(resultat.shape)"
   ]
  },
  {
   "cell_type": "markdown",
   "id": "6ee60541",
   "metadata": {},
   "source": [
    "# I.3. Exercice 3"
   ]
  },
  {
   "cell_type": "code",
   "execution_count": 21,
   "id": "f72e261a",
   "metadata": {},
   "outputs": [
    {
     "data": {
      "text/plain": [
       "array([0, 0, 0, 0, 0, 0])"
      ]
     },
     "execution_count": 21,
     "metadata": {},
     "output_type": "execute_result"
    }
   ],
   "source": [
    "scalaire = np.array(0)\n",
    "vecteur = np.array([125,2185,321,665,17,-8])\n",
    "produit = scalaire*vecteur\n",
    "produit\n"
   ]
  },
  {
   "cell_type": "code",
   "execution_count": 22,
   "id": "9cce0624",
   "metadata": {},
   "outputs": [
    {
     "name": "stdout",
     "output_type": "stream",
     "text": [
      "[0 0 0 0 0 0]\n"
     ]
    }
   ],
   "source": [
    "print(produit)"
   ]
  },
  {
   "cell_type": "markdown",
   "id": "792adc8e",
   "metadata": {},
   "source": [
    "# I.4. Exercice 4"
   ]
  },
  {
   "cell_type": "code",
   "execution_count": 23,
   "id": "ca85f246",
   "metadata": {},
   "outputs": [
    {
     "data": {
      "text/plain": [
       "(2, 3)"
      ]
     },
     "execution_count": 23,
     "metadata": {},
     "output_type": "execute_result"
    }
   ],
   "source": [
    "m = np.array([[1,2,3],[4,5,6]])\n",
    "m.shape"
   ]
  },
  {
   "cell_type": "markdown",
   "id": "be3f17c4",
   "metadata": {},
   "source": [
    "# I.5. Exercice 5"
   ]
  },
  {
   "cell_type": "code",
   "execution_count": 29,
   "id": "51aa24d9",
   "metadata": {},
   "outputs": [],
   "source": [
    "m1 = np.array([[1,2], [3,4], [5,6],[7,8]])\n",
    "m2 = np.array([[1,2], [3,4], [5,6],[7,8]])\n",
    "total = m1+m2\n"
   ]
  },
  {
   "cell_type": "code",
   "execution_count": 30,
   "id": "d6955764",
   "metadata": {},
   "outputs": [
    {
     "data": {
      "text/plain": [
       "array([[ 2,  4],\n",
       "       [ 6,  8],\n",
       "       [10, 12],\n",
       "       [14, 16]])"
      ]
     },
     "execution_count": 30,
     "metadata": {},
     "output_type": "execute_result"
    }
   ],
   "source": [
    "total"
   ]
  },
  {
   "cell_type": "code",
   "execution_count": 34,
   "id": "29fabf12",
   "metadata": {},
   "outputs": [
    {
     "data": {
      "text/plain": [
       "array([6, 8])"
      ]
     },
     "execution_count": 34,
     "metadata": {},
     "output_type": "execute_result"
    }
   ],
   "source": [
    "total[1]"
   ]
  },
  {
   "cell_type": "markdown",
   "id": "7e6478c3",
   "metadata": {},
   "source": [
    "# I.6. Exercice 6"
   ]
  },
  {
   "cell_type": "code",
   "execution_count": 35,
   "id": "493a0780",
   "metadata": {},
   "outputs": [],
   "source": [
    "v1 = np.array([4, 7])\n",
    "v2 = np.array([3, 6])\n",
    "\n",
    "a1 = np.array(2)\n",
    "a2 = np.array(3)\n",
    "a3 = np.array(1.5)\n"
   ]
  },
  {
   "cell_type": "code",
   "execution_count": 36,
   "id": "2b42e7ee",
   "metadata": {},
   "outputs": [
    {
     "data": {
      "text/plain": [
       "array([ 8, 14])"
      ]
     },
     "execution_count": 36,
     "metadata": {},
     "output_type": "execute_result"
    }
   ],
   "source": [
    "v1 * a1"
   ]
  },
  {
   "cell_type": "code",
   "execution_count": 38,
   "id": "ffe63474",
   "metadata": {},
   "outputs": [
    {
     "data": {
      "text/plain": [
       "array([ 9, 18])"
      ]
     },
     "execution_count": 38,
     "metadata": {},
     "output_type": "execute_result"
    }
   ],
   "source": [
    "v2 * a2"
   ]
  },
  {
   "cell_type": "code",
   "execution_count": null,
   "id": "627058ab",
   "metadata": {},
   "outputs": [],
   "source": []
  }
 ],
 "metadata": {
  "kernelspec": {
   "display_name": "Python 3 (ipykernel)",
   "language": "python",
   "name": "python3"
  },
  "language_info": {
   "codemirror_mode": {
    "name": "ipython",
    "version": 3
   },
   "file_extension": ".py",
   "mimetype": "text/x-python",
   "name": "python",
   "nbconvert_exporter": "python",
   "pygments_lexer": "ipython3",
   "version": "3.9.7"
  }
 },
 "nbformat": 4,
 "nbformat_minor": 5
}
